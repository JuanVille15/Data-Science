{
 "cells": [
  {
   "cell_type": "markdown",
   "id": "53a2ecfb",
   "metadata": {},
   "source": [
    " ## TAREA 2 "
   ]
  },
  {
   "cell_type": "markdown",
   "id": "7f35ed92",
   "metadata": {},
   "source": [
    "### INTRODUCCION Y PREGUNTA SMART"
   ]
  },
  {
   "cell_type": "markdown",
   "id": "eef90dcb",
   "metadata": {},
   "source": [
    "PREGUNTA SMART\n",
    "\n",
    "¿Qué características sociodemográficas y de comportamiento de pago histórico de los asociados de Coomeva Cooperativa están más asociadas con la probabilidad de pago o impago, a partir del análisis exploratorio de datos?"
   ]
  },
  {
   "cell_type": "markdown",
   "id": "bfcdb257",
   "metadata": {},
   "source": [
    "## JUSTIFICACION VARIABLE INGRESO\n",
    "\n",
    "En el marco del análisis exploratorio de datos, la variable ingreso se considera un pilar fundamental para comprender y predecir el comportamiento de pago o impago de los asociados de Coomeva Cooperativa. Su relevancia radica en que funciona como el principal indicador de la capacidad financiera de un individuo para cumplir con sus obligaciones. Un ingreso estable y suficiente no solo reduce la probabilidad de incumplimiento, sino que también es una pieza clave en la evaluación del riesgo crediticio y en el modelado predictivo. En este sentido, se espera que el ingreso muestre una correlación positiva con la probabilidad de pago, ya que un mayor flujo de fondos por parte del asociado le proporciona la liquidez necesaria para honrar sus compromisos. Por lo tanto, el análisis de esta variable es vital para segmentar a los asociados, determinar perfiles de riesgo y optimizar las políticas de crédito de la cooperativa.\n"
   ]
  },
  {
   "cell_type": "markdown",
   "id": "2890e418",
   "metadata": {},
   "source": [
    "# Análisis univariado en Python"
   ]
  },
  {
   "cell_type": "code",
   "execution_count": 1,
   "id": "cf9f5688",
   "metadata": {},
   "outputs": [],
   "source": [
    "## Importamos las librerias necesarias ##\n",
    "\n",
    "import pandas as pd\n",
    "import numpy as np\n",
    "import matplotlib.pyplot as plt\n",
    "import seaborn as sns"
   ]
  },
  {
   "cell_type": "code",
   "execution_count": 2,
   "id": "302a10ab",
   "metadata": {},
   "outputs": [
    {
     "name": "stderr",
     "output_type": "stream",
     "text": [
      "C:\\Users\\Usuario\\AppData\\Local\\Temp\\ipykernel_13948\\2140587471.py:3: DtypeWarning: Columns (15) have mixed types. Specify dtype option on import or set low_memory=False.\n",
      "  df = pd.read_csv(\"C:/Users/Usuario/Desktop/Data Science/AED/Proyecto/Data/Base_Demografica.csv\", sep=\",\")\n"
     ]
    },
    {
     "name": "stdout",
     "output_type": "stream",
     "text": [
      "['str_periodo', 'codigo', 'fecha_ingreso', 'estado', 'nombre_estado', 'EDAD_CARTERA_INICIAL', 'EDAD_CARTERA_FINAL', 'fecha_retiro', 'oficina', 'tipo_vinculacion', 'nombre_tipo_vinculacion', 'estado_civil', 'personas_a_cargo', 'personas_a_cargo_menores_18', 'sexo', 'estrato', 'tipo_vivienda', 'nombre_tipo_vivienda', 'doc_corredor', 'nombre_promotor', 'nivel_academico', 'nombre_nivel_academico', 'fecha_nacimiento', 'ingresos', 'fecha_ingresos', 'egresos', 'titulo_obtenido', 'nombre_titulo_obtenido', 'ocupacion', 'nombre_ocupacion', 'ptaje_acierta', 'saldo_aportes', 'ind_inactivo', 'ingresos_deflactados', 'fecha_ingresos_deflactados', 'segmento_ingresos_vs_antiguedad', 'segmento_ciclo_de_vida', 'descripcion_oficina', 'regional', 'zona', 'dtm_fecha_insercion', 'dtm_fecha_creacion', 'edad', 'rango_edad', 'antiguedad_meses', 'antiguedad_anios', 'rango_antiguedad', 'rango_ingreso', 'rango_menores', 'rango_aportes', 'codigo_area_de_conocimiento', 'descripcion_area_de_conocimiento', 'circulo_profesionales', 'corte', 'habeas', 'suma_productos', 'tarjeta_visa_saldo', 'cuenta_de_deposito', 'solidaridad_plan_basico', 'cheque_cuenta', 'tarjeta_debito', 'bancaseguros', 'otras_polizas', 'autos', 'tac_master_card_con_saldo', 'incrementos_solidaridad_sin_cierre_de_brecha', 'soat', 'incrementos_solidaridad_plan_basico', 'vida_clasica', 'medicina_integral', 'salud_oral', 'tac_master_card_con_cupo', 'credito_de_vivienda', 'cupo_activo', 'pap', 'cem', 'credito_de_libre_inversion_sin_garantia', 'exequial', 'vida', 'crediasociado', 'cuenta_juvenil', 'cuenta_pension', 'cuenta_afc', 'hospitalizacion', 'desempleo', 'tarjeta_visa_cupo', 'hogar_y_total_home', 'tranquilidad', 'inversiones_no_tradicionales_o_alternativas', 'recaudo_pila', 'fic_90', 'solvencia', 'credi_mutual', 'credisolidario', 'total_rc_medica', 'fic_vista', 'micro_creditos', 'credito_de_vehiculo', 'cdt', 'fondos_de_inversi_u_fffd_n_colectiva', 'fondo_de_vivienda', 'plan_educativo', 'cierre_de_brecha_pensional', 'originadores', 'fondo_social_patrimonial', 'credito_de_educacion', 'recuperacion', 'libranza', 'prima_nivelada', 'renta_fija_corto_plazo_o_de_liquidez', 'fondo_social_de_vivienda', 'coe_rotativo', 'reestructuracion_consumo', 'fic_365', 'reestructuracion_vivienda', 'coe', 'herencia', 'cupo_educar', 'reestructuracion_comercial', 'credito_salud_bienestar', 'sobregiro', 'bancoldex', 'credito_turismo', 'nomina_facil', 'credito_capital_de_trabajo']\n"
     ]
    }
   ],
   "source": [
    "## Leemos la Base_Demografica de asociados ##\n",
    "\n",
    "df = pd.read_csv(\"C:/Users/Usuario/Desktop/Data Science/AED/Proyecto/Data/Base_Demografica.csv\", sep=\",\")\n",
    "\n",
    "## información del df ##\n",
    "\n",
    "print(list(df.columns))"
   ]
  },
  {
   "cell_type": "code",
   "execution_count": 3,
   "id": "884f0544",
   "metadata": {},
   "outputs": [
    {
     "data": {
      "text/plain": [
       "(268047, 125)"
      ]
     },
     "execution_count": 3,
     "metadata": {},
     "output_type": "execute_result"
    }
   ],
   "source": [
    "df.shape"
   ]
  },
  {
   "cell_type": "code",
   "execution_count": 4,
   "id": "43108ad3",
   "metadata": {},
   "outputs": [
    {
     "name": "stdout",
     "output_type": "stream",
     "text": [
      "[dtype('int64'), dtype('float64'), dtype('O'), dtype('int64'), dtype('O'), dtype('float64'), dtype('float64'), dtype('O'), dtype('int64'), dtype('int64'), dtype('O'), dtype('O'), dtype('int64'), dtype('int64'), dtype('O'), dtype('O'), dtype('O'), dtype('O'), dtype('int64'), dtype('O'), dtype('float64'), dtype('O'), dtype('O'), dtype('float64'), dtype('O'), dtype('float64'), dtype('float64'), dtype('O'), dtype('float64'), dtype('O'), dtype('int64'), dtype('O'), dtype('int64'), dtype('float64'), dtype('O'), dtype('O'), dtype('O'), dtype('O'), dtype('O'), dtype('O'), dtype('O'), dtype('O'), dtype('int64'), dtype('O'), dtype('int64'), dtype('int64'), dtype('O'), dtype('O'), dtype('O'), dtype('O'), dtype('float64'), dtype('O'), dtype('O'), dtype('O'), dtype('O'), dtype('float64'), dtype('float64'), dtype('float64'), dtype('float64'), dtype('float64'), dtype('float64'), dtype('float64'), dtype('float64'), dtype('float64'), dtype('float64'), dtype('float64'), dtype('float64'), dtype('float64'), dtype('float64'), dtype('float64'), dtype('float64'), dtype('float64'), dtype('float64'), dtype('float64'), dtype('float64'), dtype('float64'), dtype('float64'), dtype('float64'), dtype('float64'), dtype('float64'), dtype('float64'), dtype('float64'), dtype('float64'), dtype('float64'), dtype('float64'), dtype('float64'), dtype('float64'), dtype('float64'), dtype('float64'), dtype('float64'), dtype('float64'), dtype('float64'), dtype('float64'), dtype('float64'), dtype('float64'), dtype('float64'), dtype('float64'), dtype('float64'), dtype('float64'), dtype('float64'), dtype('float64'), dtype('float64'), dtype('float64'), dtype('float64'), dtype('float64'), dtype('float64'), dtype('float64'), dtype('float64'), dtype('float64'), dtype('float64'), dtype('float64'), dtype('float64'), dtype('float64'), dtype('float64'), dtype('float64'), dtype('float64'), dtype('float64'), dtype('float64'), dtype('float64'), dtype('float64'), dtype('float64'), dtype('float64'), dtype('float64'), dtype('float64'), dtype('float64')]\n"
     ]
    }
   ],
   "source": [
    "print(list(df.dtypes))"
   ]
  },
  {
   "cell_type": "code",
   "execution_count": 5,
   "id": "a7f000a5",
   "metadata": {},
   "outputs": [
    {
     "name": "stdout",
     "output_type": "stream",
     "text": [
      "[0, 0, 0, 0, 0, 4301, 1721, 240915, 0, 0, 0, 0, 0, 0, 0, 0, 0, 0, 0, 0, 2, 0, 0, 9, 18, 148378, 17326, 0, 684, 0, 0, 67, 0, 24689, 24689, 0, 0, 0, 0, 0, 0, 0, 0, 0, 0, 0, 0, 9, 0, 67, 23973, 23973, 23973, 1198, 1198, 1, 37582, 37582, 37582, 37582, 37582, 37582, 37582, 37582, 37582, 37582, 37582, 37582, 37582, 37582, 37582, 37582, 37582, 37582, 37582, 37582, 37582, 37582, 37582, 37582, 37582, 37582, 37582, 37582, 37582, 37582, 37582, 37582, 37582, 37582, 37582, 37582, 37582, 37582, 37582, 37582, 37582, 37582, 37582, 37582, 37582, 37582, 37582, 37582, 37582, 37582, 37582, 37582, 37582, 37582, 37582, 37582, 37582, 37582, 37582, 37582, 37582, 37582, 37582, 37582, 37582, 37582, 37582, 37582, 37582]\n"
     ]
    }
   ],
   "source": [
    "print(list(df.isnull().sum()))"
   ]
  },
  {
   "cell_type": "code",
   "execution_count": 6,
   "id": "371c53df",
   "metadata": {},
   "outputs": [
    {
     "data": {
      "text/html": [
       "<div>\n",
       "<style scoped>\n",
       "    .dataframe tbody tr th:only-of-type {\n",
       "        vertical-align: middle;\n",
       "    }\n",
       "\n",
       "    .dataframe tbody tr th {\n",
       "        vertical-align: top;\n",
       "    }\n",
       "\n",
       "    .dataframe thead th {\n",
       "        text-align: right;\n",
       "    }\n",
       "</style>\n",
       "<table border=\"1\" class=\"dataframe\">\n",
       "  <thead>\n",
       "    <tr style=\"text-align: right;\">\n",
       "      <th></th>\n",
       "      <th>nombre_estado</th>\n",
       "      <th>EDAD_CARTERA_INICIAL</th>\n",
       "      <th>EDAD_CARTERA_FINAL</th>\n",
       "      <th>nombre_tipo_vinculacion</th>\n",
       "      <th>estado_civil</th>\n",
       "      <th>personas_a_cargo</th>\n",
       "      <th>estrato</th>\n",
       "      <th>nombre_tipo_vivienda</th>\n",
       "      <th>nombre_nivel_academico</th>\n",
       "      <th>ingresos</th>\n",
       "      <th>egresos</th>\n",
       "      <th>nombre_ocupacion</th>\n",
       "      <th>ptaje_acierta</th>\n",
       "      <th>edad</th>\n",
       "      <th>regional</th>\n",
       "      <th>antiguedad_anios</th>\n",
       "      <th>suma_productos</th>\n",
       "    </tr>\n",
       "  </thead>\n",
       "  <tbody>\n",
       "    <tr>\n",
       "      <th>0</th>\n",
       "      <td>Inactivo</td>\n",
       "      <td>6.0</td>\n",
       "      <td>6.0</td>\n",
       "      <td>Mayor 60</td>\n",
       "      <td>Casado</td>\n",
       "      <td>1</td>\n",
       "      <td>4</td>\n",
       "      <td>Propia</td>\n",
       "      <td>Profesional</td>\n",
       "      <td>2250000.0</td>\n",
       "      <td>NaN</td>\n",
       "      <td>Independiente</td>\n",
       "      <td>0</td>\n",
       "      <td>97</td>\n",
       "      <td>Bogota</td>\n",
       "      <td>26</td>\n",
       "      <td>2.0</td>\n",
       "    </tr>\n",
       "    <tr>\n",
       "      <th>1</th>\n",
       "      <td>Activo Normal</td>\n",
       "      <td>0.0</td>\n",
       "      <td>0.0</td>\n",
       "      <td>Mayor 60</td>\n",
       "      <td>Casado</td>\n",
       "      <td>0</td>\n",
       "      <td>5</td>\n",
       "      <td>Propia</td>\n",
       "      <td>Profesional</td>\n",
       "      <td>4500000.0</td>\n",
       "      <td>NaN</td>\n",
       "      <td>Independiente</td>\n",
       "      <td>0</td>\n",
       "      <td>94</td>\n",
       "      <td>Cali</td>\n",
       "      <td>55</td>\n",
       "      <td>5.0</td>\n",
       "    </tr>\n",
       "    <tr>\n",
       "      <th>2</th>\n",
       "      <td>Activo Cobranza Interna</td>\n",
       "      <td>0.0</td>\n",
       "      <td>1.0</td>\n",
       "      <td>Mayor 60</td>\n",
       "      <td>Casado</td>\n",
       "      <td>2</td>\n",
       "      <td>6</td>\n",
       "      <td>Desconocida</td>\n",
       "      <td>Profesional</td>\n",
       "      <td>4500000.0</td>\n",
       "      <td>NaN</td>\n",
       "      <td>Asalariado</td>\n",
       "      <td>0</td>\n",
       "      <td>93</td>\n",
       "      <td>Caribe</td>\n",
       "      <td>28</td>\n",
       "      <td>3.0</td>\n",
       "    </tr>\n",
       "    <tr>\n",
       "      <th>3</th>\n",
       "      <td>Activo Normal</td>\n",
       "      <td>0.0</td>\n",
       "      <td>0.0</td>\n",
       "      <td>Mayor 60</td>\n",
       "      <td>Casado</td>\n",
       "      <td>0</td>\n",
       "      <td>4</td>\n",
       "      <td>Propia</td>\n",
       "      <td>Ninguno</td>\n",
       "      <td>0.0</td>\n",
       "      <td>0.0</td>\n",
       "      <td>Pensionado - Jubilado</td>\n",
       "      <td>806</td>\n",
       "      <td>96</td>\n",
       "      <td>Bogota</td>\n",
       "      <td>13</td>\n",
       "      <td>0.0</td>\n",
       "    </tr>\n",
       "    <tr>\n",
       "      <th>4</th>\n",
       "      <td>Inactivo</td>\n",
       "      <td>5.0</td>\n",
       "      <td>5.0</td>\n",
       "      <td>Mayor 60</td>\n",
       "      <td>Casado</td>\n",
       "      <td>0</td>\n",
       "      <td>5</td>\n",
       "      <td>Propia</td>\n",
       "      <td>Ninguno</td>\n",
       "      <td>10500000.0</td>\n",
       "      <td>NaN</td>\n",
       "      <td>Asalariado</td>\n",
       "      <td>695</td>\n",
       "      <td>84</td>\n",
       "      <td>Medellin</td>\n",
       "      <td>12</td>\n",
       "      <td>0.0</td>\n",
       "    </tr>\n",
       "  </tbody>\n",
       "</table>\n",
       "</div>"
      ],
      "text/plain": [
       "             nombre_estado  EDAD_CARTERA_INICIAL  EDAD_CARTERA_FINAL  \\\n",
       "0                 Inactivo                   6.0                 6.0   \n",
       "1            Activo Normal                   0.0                 0.0   \n",
       "2  Activo Cobranza Interna                   0.0                 1.0   \n",
       "3            Activo Normal                   0.0                 0.0   \n",
       "4                 Inactivo                   5.0                 5.0   \n",
       "\n",
       "  nombre_tipo_vinculacion estado_civil  personas_a_cargo estrato  \\\n",
       "0                Mayor 60       Casado                 1       4   \n",
       "1                Mayor 60       Casado                 0       5   \n",
       "2                Mayor 60       Casado                 2       6   \n",
       "3                Mayor 60       Casado                 0       4   \n",
       "4                Mayor 60       Casado                 0       5   \n",
       "\n",
       "  nombre_tipo_vivienda nombre_nivel_academico    ingresos  egresos  \\\n",
       "0               Propia            Profesional   2250000.0      NaN   \n",
       "1               Propia            Profesional   4500000.0      NaN   \n",
       "2          Desconocida            Profesional   4500000.0      NaN   \n",
       "3               Propia                Ninguno         0.0      0.0   \n",
       "4               Propia                Ninguno  10500000.0      NaN   \n",
       "\n",
       "        nombre_ocupacion  ptaje_acierta  edad  regional  antiguedad_anios  \\\n",
       "0          Independiente              0    97    Bogota                26   \n",
       "1          Independiente              0    94      Cali                55   \n",
       "2             Asalariado              0    93    Caribe                28   \n",
       "3  Pensionado - Jubilado            806    96    Bogota                13   \n",
       "4             Asalariado            695    84  Medellin                12   \n",
       "\n",
       "   suma_productos  \n",
       "0             2.0  \n",
       "1             5.0  \n",
       "2             3.0  \n",
       "3             0.0  \n",
       "4             0.0  "
      ]
     },
     "execution_count": 6,
     "metadata": {},
     "output_type": "execute_result"
    }
   ],
   "source": [
    "## Escogemos las columnas necesarias ##\n",
    "\n",
    "df = df[['nombre_estado','EDAD_CARTERA_INICIAL','EDAD_CARTERA_FINAL','nombre_tipo_vinculacion','estado_civil','personas_a_cargo','estrato',\n",
    "         'nombre_tipo_vivienda','nombre_nivel_academico','ingresos','egresos','nombre_ocupacion','ptaje_acierta','edad','regional',\n",
    "         'antiguedad_anios','suma_productos']]\n",
    "\n",
    "df.head(5)"
   ]
  },
  {
   "cell_type": "code",
   "execution_count": 7,
   "id": "dfb3c2be",
   "metadata": {},
   "outputs": [
    {
     "name": "stdout",
     "output_type": "stream",
     "text": [
      "<class 'pandas.core.frame.DataFrame'>\n",
      "RangeIndex: 268047 entries, 0 to 268046\n",
      "Data columns (total 17 columns):\n",
      " #   Column                   Non-Null Count   Dtype  \n",
      "---  ------                   --------------   -----  \n",
      " 0   nombre_estado            268047 non-null  object \n",
      " 1   EDAD_CARTERA_INICIAL     263746 non-null  float64\n",
      " 2   EDAD_CARTERA_FINAL       266326 non-null  float64\n",
      " 3   nombre_tipo_vinculacion  268047 non-null  object \n",
      " 4   estado_civil             268047 non-null  object \n",
      " 5   personas_a_cargo         268047 non-null  int64  \n",
      " 6   estrato                  268047 non-null  object \n",
      " 7   nombre_tipo_vivienda     268047 non-null  object \n",
      " 8   nombre_nivel_academico   268047 non-null  object \n",
      " 9   ingresos                 268038 non-null  float64\n",
      " 10  egresos                  119669 non-null  float64\n",
      " 11  nombre_ocupacion         268047 non-null  object \n",
      " 12  ptaje_acierta            268047 non-null  int64  \n",
      " 13  edad                     268047 non-null  int64  \n",
      " 14  regional                 268047 non-null  object \n",
      " 15  antiguedad_anios         268047 non-null  int64  \n",
      " 16  suma_productos           268046 non-null  float64\n",
      "dtypes: float64(5), int64(4), object(8)\n",
      "memory usage: 34.8+ MB\n"
     ]
    }
   ],
   "source": [
    "df.info()"
   ]
  },
  {
   "cell_type": "code",
   "execution_count": 8,
   "id": "116424e3",
   "metadata": {},
   "outputs": [
    {
     "data": {
      "text/plain": [
       "nombre_estado                   0\n",
       "EDAD_CARTERA_INICIAL         4301\n",
       "EDAD_CARTERA_FINAL           1721\n",
       "nombre_tipo_vinculacion         0\n",
       "estado_civil                    0\n",
       "personas_a_cargo                0\n",
       "estrato                         0\n",
       "nombre_tipo_vivienda            0\n",
       "nombre_nivel_academico          0\n",
       "ingresos                        9\n",
       "egresos                    148378\n",
       "nombre_ocupacion                0\n",
       "ptaje_acierta                   0\n",
       "edad                            0\n",
       "regional                        0\n",
       "antiguedad_anios                0\n",
       "suma_productos                  1\n",
       "dtype: int64"
      ]
     },
     "execution_count": 8,
     "metadata": {},
     "output_type": "execute_result"
    }
   ],
   "source": [
    "## Vemos valores nulos x columna ##\n",
    "valor_nulos = df.isna().sum()\n",
    "valor_nulos"
   ]
  },
  {
   "cell_type": "markdown",
   "id": "dca350da",
   "metadata": {},
   "source": [
    "Según el resultado anterior, cada columna tiene 270.507 filas de datos, y existen cinco filas que contienen valores perdidos:\n",
    "\n",
    "\"EDAD_CARTERA_INICIAL\" -- TIENE 4.301 valores perdidos\n",
    "\n",
    "\"EDAD_CARTERA_FINAL\"   -- TIENE 1.721 valores perdidos\n",
    "\n",
    "\"ingresos\"             -- TIENE 9 valores perdidos\n",
    "\n",
    "\"egresos\"                -- TIENE 148.378 valores perdidos\n",
    "\n",
    "\"suma_producto\" --- Tiene 1 valor perdido\n"
   ]
  },
  {
   "cell_type": "markdown",
   "id": "d90f0127",
   "metadata": {},
   "source": [
    "## Manejo valores perdidos "
   ]
  },
  {
   "cell_type": "code",
   "execution_count": 9,
   "id": "88b996d4",
   "metadata": {},
   "outputs": [
    {
     "name": "stdout",
     "output_type": "stream",
     "text": [
      "valores unicos edad inicial: [6. 0. 5. 1. 3. 4. 2. 7.]\n",
      "valores unicos edad final: [6. 0. 1. 5. 4. 3. 7. 2.]\n"
     ]
    }
   ],
   "source": [
    "## Columna edad cartera inicial y edad cartera final ##\n",
    "\n",
    "## Si no tiene edad de cartera, según el dominio de la facturacion de la empresa, se encontró que el asociado en cuestión no tenia nada\n",
    "## Facturado, por lo tanto se decide rellenar los vacios con 0\n",
    "\n",
    "df['EDAD_CARTERA_INICIAL'] = df['EDAD_CARTERA_INICIAL'].fillna(0)\n",
    "df['EDAD_CARTERA_FINAL'] = df['EDAD_CARTERA_FINAL'].fillna(0)\n",
    "\n",
    "print('valores unicos edad inicial:',df['EDAD_CARTERA_INICIAL'].unique()) ## Para validar que el cambio quedo hecho\n",
    "print('valores unicos edad final:',df['EDAD_CARTERA_FINAL'].unique()) ## Para validar que el cambio quedo hecho"
   ]
  },
  {
   "cell_type": "code",
   "execution_count": 10,
   "id": "da940eb7",
   "metadata": {},
   "outputs": [
    {
     "data": {
      "text/plain": [
       "Index(['nombre_estado', 'EDAD_CARTERA_INICIAL', 'EDAD_CARTERA_FINAL',\n",
       "       'nombre_tipo_vinculacion', 'estado_civil', 'personas_a_cargo',\n",
       "       'estrato', 'nombre_tipo_vivienda', 'nombre_nivel_academico', 'ingresos',\n",
       "       'nombre_ocupacion', 'ptaje_acierta', 'edad', 'regional',\n",
       "       'antiguedad_anios', 'suma_productos'],\n",
       "      dtype='object')"
      ]
     },
     "execution_count": 10,
     "metadata": {},
     "output_type": "execute_result"
    }
   ],
   "source": [
    "## Columna egresos ##\n",
    "\n",
    "## Al validar que tiene tantos registros nulos (55% de las filas) se decide eliminar esta columna del df #3\n",
    "\n",
    "df = df.drop(columns=\"egresos\")\n",
    "df.columns ## validar que haya quedado la eliminacion"
   ]
  },
  {
   "cell_type": "code",
   "execution_count": 11,
   "id": "d9492ac3",
   "metadata": {},
   "outputs": [
    {
     "data": {
      "text/plain": [
       "array([ 2.,  5.,  3.,  0.,  1.,  4.,  9.,  7.,  6., 10.,  8., 11., 12.,\n",
       "       13., 14., 16., 15., 19., 18., 17., 20., 23., 21., 22., 25.])"
      ]
     },
     "execution_count": 11,
     "metadata": {},
     "output_type": "execute_result"
    }
   ],
   "source": [
    "## Columna suma producto ## Al ser solo 1 valor, se decide rellenar con el promedio de la columna\n",
    "\n",
    "df['suma_productos'] = df['suma_productos'].fillna(int(df['suma_productos'].mean()))\n",
    "df['suma_productos'].unique() ## validar el resultado"
   ]
  },
  {
   "cell_type": "code",
   "execution_count": 12,
   "id": "b0d53a85",
   "metadata": {},
   "outputs": [
    {
     "data": {
      "text/html": [
       "<div>\n",
       "<style scoped>\n",
       "    .dataframe tbody tr th:only-of-type {\n",
       "        vertical-align: middle;\n",
       "    }\n",
       "\n",
       "    .dataframe tbody tr th {\n",
       "        vertical-align: top;\n",
       "    }\n",
       "\n",
       "    .dataframe thead th {\n",
       "        text-align: right;\n",
       "    }\n",
       "</style>\n",
       "<table border=\"1\" class=\"dataframe\">\n",
       "  <thead>\n",
       "    <tr style=\"text-align: right;\">\n",
       "      <th></th>\n",
       "      <th>nombre_estado</th>\n",
       "      <th>EDAD_CARTERA_INICIAL</th>\n",
       "      <th>EDAD_CARTERA_FINAL</th>\n",
       "      <th>nombre_tipo_vinculacion</th>\n",
       "      <th>estado_civil</th>\n",
       "      <th>personas_a_cargo</th>\n",
       "      <th>estrato</th>\n",
       "      <th>nombre_tipo_vivienda</th>\n",
       "      <th>nombre_nivel_academico</th>\n",
       "      <th>ingresos</th>\n",
       "      <th>nombre_ocupacion</th>\n",
       "      <th>ptaje_acierta</th>\n",
       "      <th>edad</th>\n",
       "      <th>regional</th>\n",
       "      <th>antiguedad_anios</th>\n",
       "      <th>suma_productos</th>\n",
       "    </tr>\n",
       "  </thead>\n",
       "  <tbody>\n",
       "    <tr>\n",
       "      <th>0</th>\n",
       "      <td>Inactivo</td>\n",
       "      <td>6.0</td>\n",
       "      <td>6.0</td>\n",
       "      <td>Mayor 60</td>\n",
       "      <td>Casado</td>\n",
       "      <td>1</td>\n",
       "      <td>4</td>\n",
       "      <td>Propia</td>\n",
       "      <td>Profesional</td>\n",
       "      <td>2250000.0</td>\n",
       "      <td>Independiente</td>\n",
       "      <td>0</td>\n",
       "      <td>97</td>\n",
       "      <td>Bogota</td>\n",
       "      <td>26</td>\n",
       "      <td>2.0</td>\n",
       "    </tr>\n",
       "    <tr>\n",
       "      <th>1</th>\n",
       "      <td>Activo Normal</td>\n",
       "      <td>0.0</td>\n",
       "      <td>0.0</td>\n",
       "      <td>Mayor 60</td>\n",
       "      <td>Casado</td>\n",
       "      <td>0</td>\n",
       "      <td>5</td>\n",
       "      <td>Propia</td>\n",
       "      <td>Profesional</td>\n",
       "      <td>4500000.0</td>\n",
       "      <td>Independiente</td>\n",
       "      <td>0</td>\n",
       "      <td>94</td>\n",
       "      <td>Cali</td>\n",
       "      <td>55</td>\n",
       "      <td>5.0</td>\n",
       "    </tr>\n",
       "    <tr>\n",
       "      <th>2</th>\n",
       "      <td>Activo Cobranza Interna</td>\n",
       "      <td>0.0</td>\n",
       "      <td>1.0</td>\n",
       "      <td>Mayor 60</td>\n",
       "      <td>Casado</td>\n",
       "      <td>2</td>\n",
       "      <td>6</td>\n",
       "      <td>Desconocida</td>\n",
       "      <td>Profesional</td>\n",
       "      <td>4500000.0</td>\n",
       "      <td>Asalariado</td>\n",
       "      <td>0</td>\n",
       "      <td>93</td>\n",
       "      <td>Caribe</td>\n",
       "      <td>28</td>\n",
       "      <td>3.0</td>\n",
       "    </tr>\n",
       "    <tr>\n",
       "      <th>3</th>\n",
       "      <td>Activo Normal</td>\n",
       "      <td>0.0</td>\n",
       "      <td>0.0</td>\n",
       "      <td>Mayor 60</td>\n",
       "      <td>Casado</td>\n",
       "      <td>0</td>\n",
       "      <td>4</td>\n",
       "      <td>Propia</td>\n",
       "      <td>Ninguno</td>\n",
       "      <td>0.0</td>\n",
       "      <td>Pensionado - Jubilado</td>\n",
       "      <td>806</td>\n",
       "      <td>96</td>\n",
       "      <td>Bogota</td>\n",
       "      <td>13</td>\n",
       "      <td>0.0</td>\n",
       "    </tr>\n",
       "    <tr>\n",
       "      <th>4</th>\n",
       "      <td>Inactivo</td>\n",
       "      <td>5.0</td>\n",
       "      <td>5.0</td>\n",
       "      <td>Mayor 60</td>\n",
       "      <td>Casado</td>\n",
       "      <td>0</td>\n",
       "      <td>5</td>\n",
       "      <td>Propia</td>\n",
       "      <td>Ninguno</td>\n",
       "      <td>10500000.0</td>\n",
       "      <td>Asalariado</td>\n",
       "      <td>695</td>\n",
       "      <td>84</td>\n",
       "      <td>Medellin</td>\n",
       "      <td>12</td>\n",
       "      <td>0.0</td>\n",
       "    </tr>\n",
       "  </tbody>\n",
       "</table>\n",
       "</div>"
      ],
      "text/plain": [
       "             nombre_estado  EDAD_CARTERA_INICIAL  EDAD_CARTERA_FINAL  \\\n",
       "0                 Inactivo                   6.0                 6.0   \n",
       "1            Activo Normal                   0.0                 0.0   \n",
       "2  Activo Cobranza Interna                   0.0                 1.0   \n",
       "3            Activo Normal                   0.0                 0.0   \n",
       "4                 Inactivo                   5.0                 5.0   \n",
       "\n",
       "  nombre_tipo_vinculacion estado_civil  personas_a_cargo estrato  \\\n",
       "0                Mayor 60       Casado                 1       4   \n",
       "1                Mayor 60       Casado                 0       5   \n",
       "2                Mayor 60       Casado                 2       6   \n",
       "3                Mayor 60       Casado                 0       4   \n",
       "4                Mayor 60       Casado                 0       5   \n",
       "\n",
       "  nombre_tipo_vivienda nombre_nivel_academico    ingresos  \\\n",
       "0               Propia            Profesional   2250000.0   \n",
       "1               Propia            Profesional   4500000.0   \n",
       "2          Desconocida            Profesional   4500000.0   \n",
       "3               Propia                Ninguno         0.0   \n",
       "4               Propia                Ninguno  10500000.0   \n",
       "\n",
       "        nombre_ocupacion  ptaje_acierta  edad  regional  antiguedad_anios  \\\n",
       "0          Independiente              0    97    Bogota                26   \n",
       "1          Independiente              0    94      Cali                55   \n",
       "2             Asalariado              0    93    Caribe                28   \n",
       "3  Pensionado - Jubilado            806    96    Bogota                13   \n",
       "4             Asalariado            695    84  Medellin                12   \n",
       "\n",
       "   suma_productos  \n",
       "0             2.0  \n",
       "1             5.0  \n",
       "2             3.0  \n",
       "3             0.0  \n",
       "4             0.0  "
      ]
     },
     "execution_count": 12,
     "metadata": {},
     "output_type": "execute_result"
    }
   ],
   "source": [
    "## columna ingresos ##  --- Variable de interes para el analisis univariado ##\n",
    "## Al validar que no son muchos los registros nulos, se decide eliminar las filas nulas ##\n",
    "\n",
    "df['ingresos'] = df['ingresos'].dropna()\n",
    "df.head(5)"
   ]
  },
  {
   "cell_type": "code",
   "execution_count": 13,
   "id": "8e7d69e8",
   "metadata": {},
   "outputs": [
    {
     "name": "stdout",
     "output_type": "stream",
     "text": [
      "<class 'pandas.core.frame.DataFrame'>\n",
      "RangeIndex: 268047 entries, 0 to 268046\n",
      "Data columns (total 16 columns):\n",
      " #   Column                   Non-Null Count   Dtype  \n",
      "---  ------                   --------------   -----  \n",
      " 0   nombre_estado            268047 non-null  object \n",
      " 1   EDAD_CARTERA_INICIAL     268047 non-null  float64\n",
      " 2   EDAD_CARTERA_FINAL       268047 non-null  float64\n",
      " 3   nombre_tipo_vinculacion  268047 non-null  object \n",
      " 4   estado_civil             268047 non-null  object \n",
      " 5   personas_a_cargo         268047 non-null  int64  \n",
      " 6   estrato                  268047 non-null  object \n",
      " 7   nombre_tipo_vivienda     268047 non-null  object \n",
      " 8   nombre_nivel_academico   268047 non-null  object \n",
      " 9   ingresos                 268038 non-null  float64\n",
      " 10  nombre_ocupacion         268047 non-null  object \n",
      " 11  ptaje_acierta            268047 non-null  int64  \n",
      " 12  edad                     268047 non-null  int64  \n",
      " 13  regional                 268047 non-null  object \n",
      " 14  antiguedad_anios         268047 non-null  int64  \n",
      " 15  suma_productos           268047 non-null  float64\n",
      "dtypes: float64(4), int64(4), object(8)\n",
      "memory usage: 32.7+ MB\n"
     ]
    }
   ],
   "source": [
    "## Validamos los cambios realizados de manera general ##\n",
    "\n",
    "df.info()"
   ]
  },
  {
   "cell_type": "markdown",
   "id": "fdccf1c8",
   "metadata": {},
   "source": [
    "## ANALISIS UNVARIADO -- VARIABLE INGRESO"
   ]
  },
  {
   "cell_type": "code",
   "execution_count": 14,
   "id": "3994281e",
   "metadata": {},
   "outputs": [
    {
     "data": {
      "text/plain": [
       "count    268038.000000\n",
       "mean          6.598956\n",
       "std          56.502130\n",
       "min           0.000000\n",
       "25%           2.250000\n",
       "50%           4.000000\n",
       "75%           7.093009\n",
       "max        9259.171000\n",
       "Name: ingresos, dtype: float64"
      ]
     },
     "execution_count": 14,
     "metadata": {},
     "output_type": "execute_result"
    }
   ],
   "source": [
    "## 1. Estadisticas descriptivas ##\n",
    "\n",
    "\n",
    "df['ingresos'] = df['ingresos'].round(0) / 1000000\n",
    "df['ingresos'].describe()"
   ]
  },
  {
   "cell_type": "code",
   "execution_count": 15,
   "id": "cc85d1c2",
   "metadata": {},
   "outputs": [
    {
     "data": {
      "text/plain": [
       "65427     9259.171000\n",
       "157019    9100.000000\n",
       "242583    9100.000000\n",
       "67559     8992.560423\n",
       "4992      8700.000000\n",
       "             ...     \n",
       "22527      233.831500\n",
       "216930     229.058620\n",
       "27802      228.000000\n",
       "134631     227.116731\n",
       "27811      226.886833\n",
       "Name: ingresos, Length: 100, dtype: float64"
      ]
     },
     "execution_count": 15,
     "metadata": {},
     "output_type": "execute_result"
    }
   ],
   "source": [
    "## valores mas altos ##\n",
    "\n",
    "n_valores_altos = df['ingresos'].nlargest(100)\n",
    "n_valores_altos"
   ]
  },
  {
   "cell_type": "code",
   "execution_count": 16,
   "id": "cd549fcb",
   "metadata": {},
   "outputs": [
    {
     "data": {
      "image/png": "[encoded data removed]",
      "text/plain": [
       "<Figure size 800x1200 with 1 Axes>"
      ]
     },
     "metadata": {},
     "output_type": "display_data"
    }
   ],
   "source": [
    "## Graficar variable ingreso ##\n",
    "\n",
    "plt.figure(figsize=(8,12))\n",
    "sns.boxplot(df['ingresos'],color='blue')\n",
    "plt.title('Boxplot ingresos')\n",
    "plt.show()"
   ]
  },
  {
   "cell_type": "markdown",
   "id": "b7c655fa",
   "metadata": {},
   "source": [
    "## Manejo de outliers \n",
    "\n",
    "Validando el boxplot de la variable ingresos, nos encontramos que hay una significativa cantidad de outliers, por lo cual se le dara tratamiento a esto con el metodo de IQR -- Rango intercuartilico"
   ]
  },
  {
   "cell_type": "code",
   "execution_count": 17,
   "id": "7b77421e",
   "metadata": {},
   "outputs": [
    {
     "name": "stdout",
     "output_type": "stream",
     "text": [
      "<class 'pandas.core.frame.DataFrame'>\n",
      "Index: 246746 entries, 0 to 268045\n",
      "Data columns (total 16 columns):\n",
      " #   Column                   Non-Null Count   Dtype  \n",
      "---  ------                   --------------   -----  \n",
      " 0   nombre_estado            246746 non-null  object \n",
      " 1   EDAD_CARTERA_INICIAL     246746 non-null  float64\n",
      " 2   EDAD_CARTERA_FINAL       246746 non-null  float64\n",
      " 3   nombre_tipo_vinculacion  246746 non-null  object \n",
      " 4   estado_civil             246746 non-null  object \n",
      " 5   personas_a_cargo         246746 non-null  int64  \n",
      " 6   estrato                  246746 non-null  object \n",
      " 7   nombre_tipo_vivienda     246746 non-null  object \n",
      " 8   nombre_nivel_academico   246746 non-null  object \n",
      " 9   ingresos                 246746 non-null  float64\n",
      " 10  nombre_ocupacion         246746 non-null  object \n",
      " 11  ptaje_acierta            246746 non-null  int64  \n",
      " 12  edad                     246746 non-null  int64  \n",
      " 13  regional                 246746 non-null  object \n",
      " 14  antiguedad_anios         246746 non-null  int64  \n",
      " 15  suma_productos           246746 non-null  float64\n",
      "dtypes: float64(4), int64(4), object(8)\n",
      "memory usage: 32.0+ MB\n"
     ]
    }
   ],
   "source": [
    "## Rango intercuartilico ##\n",
    "\n",
    "Q1 = df['ingresos'].quantile(0.25)\n",
    "Q3 = df['ingresos'].quantile(0.75)\n",
    "IQR = Q3 - Q1\n",
    "\n",
    "## Definimos los limites inferior y superior ##\n",
    "\n",
    "limite_inferior = Q1 - 1.5*IQR\n",
    "limite_superior = Q3 + 1.5*IQR\n",
    "\n",
    "## filtramos los datos para eliminar los outliers ##\n",
    "\n",
    "df_sin_outliers = df[(df['ingresos']>= limite_inferior) & (df['ingresos'] <= limite_superior)]\n",
    "df_sin_outliers.info()"
   ]
  },
  {
   "cell_type": "code",
   "execution_count": 18,
   "id": "7b5576c6",
   "metadata": {},
   "outputs": [
    {
     "name": "stdout",
     "output_type": "stream",
     "text": [
      "estadisticas descriptivas: count    246746.000000\n",
      "mean          4.337926\n",
      "std           3.079591\n",
      "min           0.000000\n",
      "25%           2.115280\n",
      "50%           3.538119\n",
      "75%           5.913234\n",
      "max          14.357150\n",
      "Name: ingresos, dtype: float64\n",
      "_____________________\n",
      "Histograma variable Ingresos\n"
     ]
    },
    {
     "data": {
      "image/png": "[encoded data removed]",
      "text/plain": [
       "<Figure size 800x1200 with 1 Axes>"
      ]
     },
     "metadata": {},
     "output_type": "display_data"
    },
    {
     "name": "stdout",
     "output_type": "stream",
     "text": [
      "Boxplot variable ingresos\n"
     ]
    },
    {
     "data": {
      "image/png": "[encoded data removed]",
      "text/plain": [
       "<Figure size 800x1200 with 1 Axes>"
      ]
     },
     "metadata": {},
     "output_type": "display_data"
    }
   ],
   "source": [
    "## Volvemos a analizar la variable sin outliers##\n",
    "\n",
    "print(f'estadisticas descriptivas: {df_sin_outliers['ingresos'].describe()}')\n",
    "\n",
    "print('_____________________')\n",
    "\n",
    "print('Histograma variable Ingresos')\n",
    "plt.figure(figsize=(8,12))\n",
    "sns.histplot(df_sin_outliers['ingresos'],color='skyblue', bins=20)\n",
    "plt.title('histograma Boxplotvariable ingresos')\n",
    "plt.xlabel('ingresos (millones de pesos)')\n",
    "plt.show()\n",
    "\n",
    "\n",
    "\n",
    "print('Boxplot variable ingresos')\n",
    "plt.figure(figsize=(8,12))\n",
    "sns.boxplot(df_sin_outliers['ingresos'],color='skyblue')\n",
    "plt.title('Boxplot ingresos')\n",
    "plt.ylabel('ingresos (millones de pesos)')\n",
    "plt.show()"
   ]
  },
  {
   "cell_type": "code",
   "execution_count": 19,
   "id": "4bb023bc",
   "metadata": {},
   "outputs": [
    {
     "name": "stdout",
     "output_type": "stream",
     "text": [
      "kurtuosis: 0.6689922751577884\n",
      "Asimetria: 1.1150020195081825\n"
     ]
    }
   ],
   "source": [
    "## Medidas de la distribucción: Variable ingreso ##\n",
    "\n",
    "from scipy.stats import skew,kurtosis\n",
    "\n",
    "print(f'kurtuosis: {kurtosis(df_sin_outliers['ingresos'])}')\n",
    "print(f'Asimetria: {skew(df_sin_outliers['ingresos'])}')"
   ]
  },
  {
   "cell_type": "markdown",
   "id": "256de921",
   "metadata": {},
   "source": [
    "## Interpretación de la Asimetría (Skewness)\n",
    "\n",
    "El valor de asimetría (skewness) de 1.115 es positivo y mayor que 1, lo que indica que la variable ingreso tiene una asimetría moderada a alta hacia la derecha.\n",
    "\n",
    "Esto significa que:\n",
    "\n",
    "La mayoría de los valores de ingresos se concentran en el extremo inferior de la escala.\n",
    "\n",
    "La \"cola\" de la distribución se extiende hacia la derecha, lo que indica que hay una cantidad menor de personas con ingresos muy altos."
   ]
  },
  {
   "cell_type": "markdown",
   "id": "6ba24e6d",
   "metadata": {},
   "source": [
    "## Interpretación de la Curtosis (Kurtosis)\n",
    "\n",
    "El valor de 0.66 en la curtosis significa que la variable ingresos no sigue una distribución normal. Esto se debe a que las observaciones estan mas concentradas al rededor de la media y tiene una mayor dispersión hacia los extremos, esto es tipico de una distribución leptocurtica lo que significa que estos datos estan propensos a presentar valores extremos asi ya se haya dado manejo a los outliers"
   ]
  },
  {
   "cell_type": "code",
   "execution_count": 20,
   "id": "9beb8083",
   "metadata": {},
   "outputs": [
    {
     "name": "stderr",
     "output_type": "stream",
     "text": [
      "C:\\Users\\Usuario\\AppData\\Local\\Temp\\ipykernel_13948\\2839491756.py:18: SettingWithCopyWarning: \n",
      "A value is trying to be set on a copy of a slice from a DataFrame.\n",
      "Try using .loc[row_indexer,col_indexer] = value instead\n",
      "\n",
      "See the caveats in the documentation: https://pandas.pydata.org/pandas-docs/stable/user_guide/indexing.html#returning-a-view-versus-a-copy\n",
      "  df_sin_outliers['Categoria_Ingresos'] = categoria_ingresos\n"
     ]
    }
   ],
   "source": [
    "# Calcular límites una sola vez\n",
    "q25 = df_sin_outliers['ingresos'].quantile(0.25)\n",
    "q75 = df_sin_outliers['ingresos'].quantile(0.75)\n",
    "mean_val = df_sin_outliers['ingresos'].mean()\n",
    "\n",
    "categoria_ingresos = []\n",
    "\n",
    "for i in df_sin_outliers['ingresos']:\n",
    "    if i > q75:\n",
    "        categoria_ingresos.append('Ingreso_Alto')\n",
    "    elif i > mean_val:\n",
    "        categoria_ingresos.append('Ingreso_Medio_Alto')\n",
    "    elif i > q25:\n",
    "        categoria_ingresos.append('Ingreso_Medio')\n",
    "    else:\n",
    "        categoria_ingresos.append('Ingreso_Bajo')\n",
    "\n",
    "df_sin_outliers['Categoria_Ingresos'] = categoria_ingresos\n"
   ]
  },
  {
   "cell_type": "code",
   "execution_count": null,
   "id": "71c752e8",
   "metadata": {},
   "outputs": [
    {
     "data": {
      "text/plain": [
       "array(['Ingreso_Medio', 'Ingreso_Medio_Alto', 'Ingreso_Bajo',\n",
       "       'Ingreso_Alto'], dtype=object)"
      ]
     },
     "execution_count": 59,
     "metadata": {},
     "output_type": "execute_result"
    }
   ],
   "source": [
    "df_sin_outliers['Categoria_Ingresos'].unique() ##  Validar las categorias "
   ]
  },
  {
   "cell_type": "code",
   "execution_count": 60,
   "id": "1a8b0c88",
   "metadata": {},
   "outputs": [
    {
     "data": {
      "text/plain": [
       "Categoria_Ingresos\n",
       "Ingreso_Medio         32.263137\n",
       "Ingreso_Bajo          25.000203\n",
       "Ingreso_Alto          25.000203\n",
       "Ingreso_Medio_Alto    17.736458\n",
       "Name: proportion, dtype: float64"
      ]
     },
     "execution_count": 60,
     "metadata": {},
     "output_type": "execute_result"
    }
   ],
   "source": [
    "## Proporciones ##\n",
    "\n",
    "df_sin_outliers['Categoria_Ingresos'].value_counts(normalize=True)*100"
   ]
  },
  {
   "cell_type": "code",
   "execution_count": 62,
   "id": "ec84e64d",
   "metadata": {},
   "outputs": [
    {
     "name": "stderr",
     "output_type": "stream",
     "text": [
      "C:\\Users\\Usuario\\AppData\\Local\\Temp\\ipykernel_19316\\2574647738.py:4: FutureWarning: \n",
      "\n",
      "Passing `palette` without assigning `hue` is deprecated and will be removed in v0.14.0. Assign the `x` variable to `hue` and set `legend=False` for the same effect.\n",
      "\n",
      "  sns.boxplot(\n"
     ]
    },
    {
     "data": {
      "image/png": "[encoded data removed]",
      "text/plain": [
       "<Figure size 800x500 with 1 Axes>"
      ]
     },
     "metadata": {},
     "output_type": "display_data"
    }
   ],
   "source": [
    "## Grafico de violin ##\n",
    "\n",
    "plt.figure(figsize=(8,5))\n",
    "sns.boxplot(\n",
    "    x='Categoria_Ingresos',\n",
    "    y='ingresos',\n",
    "    data=df_sin_outliers,\n",
    "    order=['Ingreso_Bajo', 'Ingreso_Medio', 'Ingreso_Medio_Alto', 'Ingreso_Alto'], # orden opcional\n",
    "    palette='Set2'\n",
    ")\n",
    "plt.title('Distribución de Ingresos por Categoría')\n",
    "plt.show()"
   ]
  },
  {
   "cell_type": "code",
   "execution_count": 65,
   "id": "70c6a488",
   "metadata": {},
   "outputs": [
    {
     "name": "stdout",
     "output_type": "stream",
     "text": [
      "Categoría: Ingreso_Medio\n",
      "count    79608.000000\n",
      "mean         2.931405\n",
      "std          0.670245\n",
      "min          2.115401\n",
      "25%          2.250000\n",
      "50%          2.779216\n",
      "75%          3.500000\n",
      "max          4.337916\n",
      "Name: ingresos, dtype: float64\n",
      "\n",
      "\n",
      "Categoría: Ingreso_Medio_Alto\n",
      "count    43764.000000\n",
      "mean         4.840897\n",
      "std          0.434047\n",
      "min          4.338000\n",
      "25%          4.500000\n",
      "50%          4.582358\n",
      "75%          5.113070\n",
      "max          5.913187\n",
      "Name: ingresos, dtype: float64\n",
      "\n",
      "\n",
      "Categoría: Ingreso_Bajo\n",
      "count    61687.000000\n",
      "mean         1.310028\n",
      "std          0.452195\n",
      "min          0.000000\n",
      "25%          1.125000\n",
      "50%          1.220000\n",
      "75%          1.600000\n",
      "max          2.115240\n",
      "Name: ingresos, dtype: float64\n",
      "\n",
      "\n",
      "Categoría: Ingreso_Alto\n",
      "count    61687.000000\n",
      "mean         8.824128\n",
      "std          2.233963\n",
      "min          5.913250\n",
      "25%          7.016376\n",
      "50%          8.075378\n",
      "75%         10.500000\n",
      "max         14.357150\n",
      "Name: ingresos, dtype: float64\n",
      "\n",
      "\n"
     ]
    }
   ],
   "source": [
    "for i in df_sin_outliers['Categoria_Ingresos'].unique():\n",
    "    print(f\"Categoría: {i}\")\n",
    "    print(df_sin_outliers[df_sin_outliers['Categoria_Ingresos'] == i]['ingresos'].describe())\n",
    "    print(\"\\n\")"
   ]
  },
  {
   "cell_type": "markdown",
   "id": "ffb9e431",
   "metadata": {},
   "source": [
    "## Analisis categorias de ingreso \n",
    "\n",
    "El análisis de la distribución de ingresos por categoría, expresados en millones de pesos, evidencia diferencias claras entre los grupos definidos. En la categoría Ingreso_Bajo, la mediana se sitúa cerca de 1,5 millones, con un rango intercuartílico reducido y presencia de valores atípicos hacia niveles muy bajos, lo que refleja una alta concentración de ingresos en torno a la mediana pero con algunos casos extremos. La categoría Ingreso_Medio presenta una mediana cercana a 3 millones, con baja dispersión y sin outliers significativos, mientras que Ingreso_Medio_Alto mantiene una mediana aproximada de 4,8 millones, con gran homogeneidad en los valores. Finalmente, Ingreso_Alto registra la mayor dispersión, con una mediana de 8 millones y un rango que se extiende hasta 14 millones, indicando una composición heterogénea en este segmento. Estos resultados sugieren que las categorías definidas capturan adecuadamente los diferentes niveles de ingreso, aunque los grupos “Bajo” y “Alto” presentan mayor variabilidad interna."
   ]
  },
  {
   "cell_type": "markdown",
   "id": "424ae7ec",
   "metadata": {},
   "source": [
    "## CONCLUSIONES Y HALLAZGOS"
   ]
  },
  {
   "cell_type": "markdown",
   "id": "24f2a0d4",
   "metadata": {},
   "source": [
    "1. La varibale ingreso presenta incialmente outliers muy elevados, se sospecha que dentro de la población de la cooperativa se encuentran categorizados como asociados con (cedula de ciudadania o extranjeria) empresas o personas juridicas, por lo cual se encuentran ingresos maximos hasta mas de 9.000 millones de pesos por mes. Ante esto, se dio tratamiento al problema mediante el uso del rango intercuartilico.\n",
    "\n",
    "2. Una vez tratados los outliers los ingresos de los asociados a la cooperativa se mueven entre 0 y 14 millones de pesos. con una media de 3.5 millones y una desviación estandar aproximada a 3 millones\n",
    "\n",
    "3. La distribución de esta variable es asimetrica y presenta patrones de ser leptocurtica, lo que quiere decir que la mayoria de los datos se concentran al rededor de la media y presenta valore extremos aunque se hayan eliminado outliers, en este caso especifico, valores extremos hacia la derecha, lo que quiere decir, asociados con ingresos muy altos y que se desvian significativamente del promedio.\n",
    "\n",
    "4. Al realizar categorias de ingresos según los cuartiles de la variable se encontró que la mayoria de las observaciones se encuentran en ingresos medios ( mayores al 2.1 millones y menores o iguales a 3.5 millones). Adicionalmente se encontró que la categoria con mayor variabilidad es la de ingresos altos, ya que presenta un valor medio 8 millones y su rango se extiende hasta 14 millones, validando asi que en este segmento se encuentran la mayoria de valores extremos. "
   ]
  },
  {
   "cell_type": "markdown",
   "id": "8e0a687e",
   "metadata": {},
   "source": [
    "## Implicaciones y Próximos Pasos\n",
    "\n",
    "Estos hallazgos son fundamentales para la siguiente fase del proyecto, que es predecir la probabilidad de pago. La asimetría positiva de la variable ingresos y la gran variabilidad en el segmento de \"ingresos altos\" sugieren que los modelos predictivos podrían beneficiarse significativamente de la segmentación. En lugar de tratar a todos los asociados por igual, un próximo paso crucial será crear un modelo predictivo separado para la categoría de ingresos altos, ya que su comportamiento financiero podría ser muy diferente al de los grupos de ingresos medios y bajos. La gran dispersión en el segmento alto indica que el ingreso por sí solo podría no ser suficiente para predecir la probabilidad de pago; se necesitará analizar otras variables (como el historial crediticio o el tipo de asociado) para capturar mejor la variabilidad y mejorar la precisión del modelo en este grupo. Finalmente, la alta concentración de asociados en el segmento de ingresos medios permite enfocar los esfuerzos para crear un modelo robusto y confiable que sirva para la mayoría de la base de clientes de la cooperativa."
   ]
  }
 ],
 "metadata": {
  "kernelspec": {
   "display_name": "Python 3",
   "language": "python",
   "name": "python3"
  },
  "language_info": {
   "codemirror_mode": {
    "name": "ipython",
    "version": 3
   },
   "file_extension": ".py",
   "mimetype": "text/x-python",
   "name": "python",
   "nbconvert_exporter": "python",
   "pygments_lexer": "ipython3",
   "version": "3.13.5"
  }
 },
 "nbformat": 4,
 "nbformat_minor": 5
}
